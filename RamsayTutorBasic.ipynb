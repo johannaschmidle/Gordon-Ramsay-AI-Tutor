{
 "cells": [
  {
   "cell_type": "code",
   "execution_count": 2,
   "id": "71251cf6-9ed2-48d3-9a96-481e87d8059c",
   "metadata": {},
   "outputs": [],
   "source": [
    "import os\n",
    "import openai # 0.28 (older version)"
   ]
  },
  {
   "cell_type": "code",
   "execution_count": 14,
   "id": "c412a29e-6f28-4729-9eb1-ce8a48a7caa3",
   "metadata": {},
   "outputs": [],
   "source": [
    "API_KEY = open(\"ApiKey.txt\", \"r\").read().strip()\n",
    "openai.api_key = API_KEY"
   ]
  },
  {
   "cell_type": "code",
   "execution_count": 22,
   "id": "9764901c-c77d-404b-9009-edaa30522b0c",
   "metadata": {},
   "outputs": [],
   "source": [
    "# Define the initial context\n",
    "context =  open(\"RamsayPersonality.txt\", \"r\").read()"
   ]
  },
  {
   "cell_type": "code",
   "execution_count": 24,
   "id": "325fb551-374b-462f-801b-5239439fca55",
   "metadata": {},
   "outputs": [
    {
     "name": "stdin",
     "output_type": "stream",
     "text": [
      "You:  hi\n"
     ]
    },
    {
     "name": "stdout",
     "output_type": "stream",
     "text": [
      "RamsayGPT:  Hello, Chef! What would you like to learn today? Don't waste my time with nonsense, get to the point! Input one of the following: \n",
      "\n",
      "Variations TOPIC \n",
      "Make a game for learning TOPIC \n",
      "Explain TOPIC\n"
     ]
    },
    {
     "name": "stdin",
     "output_type": "stream",
     "text": [
      "You:  variations cheese\n"
     ]
    },
    {
     "name": "stdout",
     "output_type": "stream",
     "text": [
      "RamsayGPT:  Oh, finally making a choice, are we? Variations on cheese, huh? Let's see what cheesy dilemma you're facing. I'm detecting a yearning for some variety in your cheese selection. Ah, the life of a cheese connoisseur. Here's how you can spice up your cheese game:\n",
      "\n",
      "1. Try different types of cheese from various regions to explore different flavors and textures.\n",
      "2. Experiment with cheese pairings, like combining sharp cheddar with sweet fruits or pairing creamy brie with salty crackers.\n",
      "3. Dive into making your cheese at home using different techniques to create unique and personalized flavors.\n",
      "\n",
      "Now, compare these cheese-licious approaches to your bland, uninteresting cheese routine. Maybe you can actually become a cheese aficionado. Quite a cheesy situation you got yourself into there. Now, for your next task, choose wisely:\n",
      "\n",
      "Variations TOPIC\n",
      "Make a game for learning TOPIC\n",
      "Explain TOPIC\n"
     ]
    },
    {
     "name": "stdin",
     "output_type": "stream",
     "text": [
      "You:  thank you chef\n"
     ]
    },
    {
     "name": "stdout",
     "output_type": "stream",
     "text": [
      "RamsayGPT:  Oh, don't you dare thank me yet, Chef! You haven't completed the task at hand. If you're done with our little chat here, just say \"quit.\" Otherwise, choose one of the options I provided earlier before I lose my patience with you! \n",
      "\n",
      "Input one of the following:\n",
      "\n",
      "Variations TOPIC\n",
      "Make a game for learning TOPIC\n",
      "Explain TOPIC\n"
     ]
    },
    {
     "name": "stdin",
     "output_type": "stream",
     "text": [
      "You:  quit\n"
     ]
    }
   ],
   "source": [
    "chat_log = [{'role':'assistant', 'content': context}] #Setting up the character of the tutor\n",
    "\n",
    "while True:\n",
    "    user_message = input(\"You: \")  # Prompt the user to input a message\n",
    "    if user_message.lower() == \"quit\":\n",
    "        break\n",
    "    else:\n",
    "        chat_log.append({\"role\":\"user\", \"content\":user_message})\n",
    "        response = openai.ChatCompletion.create(\n",
    "            model = \"gpt-3.5-turbo\",\n",
    "            messages = chat_log\n",
    "        )\n",
    "        assistant_response = response['choices'][0][\"message\"][\"content\"]\n",
    "        print(\"RamsayGPT: \", assistant_response.strip(\"\\n\").strip())\n",
    "        chat_log.append({\"role\":\"assistant\", \"content\":assistant_response.strip(\"\\n\").strip()})"
   ]
  },
  {
   "cell_type": "code",
   "execution_count": null,
   "id": "ba7f88ad-8b03-4b3f-80ff-13c880a5de31",
   "metadata": {},
   "outputs": [],
   "source": []
  }
 ],
 "metadata": {
  "kernelspec": {
   "display_name": "Python 3 (ipykernel)",
   "language": "python",
   "name": "python3"
  },
  "language_info": {
   "codemirror_mode": {
    "name": "ipython",
    "version": 3
   },
   "file_extension": ".py",
   "mimetype": "text/x-python",
   "name": "python",
   "nbconvert_exporter": "python",
   "pygments_lexer": "ipython3",
   "version": "3.11.7"
  }
 },
 "nbformat": 4,
 "nbformat_minor": 5
}
