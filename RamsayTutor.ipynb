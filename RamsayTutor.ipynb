{
 "cells": [
  {
   "cell_type": "code",
   "execution_count": 9,
   "id": "09d2a347-f1d4-41cc-a02c-68a5ba3e63b8",
   "metadata": {},
   "outputs": [],
   "source": [
    "import os\n",
    "import openai # 0.28 (older version)\n",
    "import panel as pn\n",
    "from panel.chat import ChatMessage"
   ]
  },
  {
   "cell_type": "code",
   "execution_count": 43,
   "id": "a18c9007-93c7-435d-a297-41e79577f9c1",
   "metadata": {},
   "outputs": [],
   "source": [
    "API_KEY = open(\"ApiKey.txt\", \"r\").read().strip() #Add your own file with your personal API key to the repository.\n",
    "openai.api_key = API_KEY"
   ]
  },
  {
   "cell_type": "code",
   "execution_count": 45,
   "id": "e5001884-fc31-4933-a909-aa14f59f11bd",
   "metadata": {},
   "outputs": [],
   "source": [
    "# Define the initial context\n",
    "context =  open(\"RamsayPersonality.txt\", \"r\").read()"
   ]
  },
  {
   "cell_type": "code",
   "execution_count": 55,
   "id": "b973e522-aed6-4779-8b9f-39b7cee0bdbb",
   "metadata": {},
   "outputs": [
    {
     "name": "stdout",
     "output_type": "stream",
     "text": [
      "Launching server at http://localhost:58894\n"
     ]
    },
    {
     "data": {
      "text/plain": [
       "<panel.io.server.Server at 0x14b553bd0>"
      ]
     },
     "execution_count": 55,
     "metadata": {},
     "output_type": "execute_result"
    }
   ],
   "source": [
    "# Initialize chat log with the initial context and the greeting\n",
    "chat_log = [{'role': 'assistant', 'content': context}]\n",
    "chat_log.append({\"role\": \"assistant\", \"content\": \"Hello, chef! What topic would you like to learn about today?\"})\n",
    "\n",
    "# Create input widget\n",
    "input_text = pn.widgets.TextInput(name='Input Text', placeholder='Type here...')\n",
    "output_text = pn.pane.Markdown(\"\", sizing_mode=\"stretch_width\")\n",
    "\n",
    "# Function to handle the submit button click\n",
    "def submit(event):\n",
    "    user_message = input_text.value\n",
    "    if user_message.lower() == \"quit\":\n",
    "        return\n",
    "    else:\n",
    "        chat_log.append({\"role\": \"user\", \"content\": user_message})\n",
    "        response = openai.ChatCompletion.create(\n",
    "            model=\"gpt-3.5-turbo\",\n",
    "            messages=chat_log\n",
    "        )\n",
    "        assistant_response = response['choices'][0][\"message\"][\"content\"]\n",
    "        chat_log.append({\"role\": \"assistant\", \"content\": assistant_response.strip(\"\\n\").strip()})\n",
    "        \n",
    "        # Update the output to show the full chat history, excluding the initial context\n",
    "        chat_history = \"\\n\".join([f\"**{entry['role'].capitalize()}**: {entry['content']}\" for entry in chat_log if entry['role'] != 'assistant' or entry['content'] != context])\n",
    "        output_text.object = chat_history\n",
    "        \n",
    "        input_text.value = \"\"\n",
    "\n",
    "# Create submit button\n",
    "submit_button = pn.widgets.Button(name='Submit', button_type='primary')\n",
    "submit_button.on_click(submit)\n",
    "\n",
    "# Create a panel layout\n",
    "dashboard = pn.Column(\n",
    "    pn.pane.Markdown(\"👨🏼‍🍳 RamsayGPT - Your Personal Coding Tutor\"),\n",
    "    output_text,\n",
    "    input_text,\n",
    "    submit_button,\n",
    ")\n",
    "\n",
    "# Initialize the output with the initial greeting\n",
    "output_text.object = \"**RamsayGPT**: Hello, chef! What topic would you like to learn about today?\"\n",
    "\n",
    "dashboard.servable()\n",
    "pn.serve(dashboard)"
   ]
  },
  {
   "cell_type": "code",
   "execution_count": null,
   "id": "733a8982-fd48-4b7a-a59a-e37297f3fc43",
   "metadata": {},
   "outputs": [],
   "source": []
  }
 ],
 "metadata": {
  "kernelspec": {
   "display_name": "Python 3 (ipykernel)",
   "language": "python",
   "name": "python3"
  },
  "language_info": {
   "codemirror_mode": {
    "name": "ipython",
    "version": 3
   },
   "file_extension": ".py",
   "mimetype": "text/x-python",
   "name": "python",
   "nbconvert_exporter": "python",
   "pygments_lexer": "ipython3",
   "version": "3.11.7"
  }
 },
 "nbformat": 4,
 "nbformat_minor": 5
}
